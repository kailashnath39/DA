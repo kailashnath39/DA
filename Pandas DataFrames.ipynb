{
 "cells": [
  {
   "cell_type": "markdown",
   "id": "253640c4",
   "metadata": {},
   "source": [
    "### I. import and read a CSV file"
   ]
  },
  {
   "cell_type": "code",
   "execution_count": 2,
   "id": "f52ec6d0",
   "metadata": {
    "scrolled": true
   },
   "outputs": [],
   "source": [
    "import pandas as pd\n",
    "data = pd.read_csv(\"C:/Users/kknat/OneDrive/Desktop/DATASETS/DataFrames_Dataset_4thQuestion.csv\")"
   ]
  },
  {
   "cell_type": "markdown",
   "id": "c672a275",
   "metadata": {},
   "source": [
    "### II. To Generate a basic understanding of a given data."
   ]
  },
  {
   "cell_type": "code",
   "execution_count": 3,
   "id": "804af912",
   "metadata": {
    "scrolled": true
   },
   "outputs": [
    {
     "name": "stdout",
     "output_type": "stream",
     "text": [
      "First 5 rows of data : \n",
      "    customer_id  year_of_birth  educational_level marital_status  \\\n",
      "0     20201701            1982        Graduation         Single   \n",
      "1     20201702            1950        Graduation        Married   \n",
      "2     20201703            1965        Graduation       Divorced   \n",
      "3     20201704            1984        Graduation   Relationship   \n",
      "4     20201705            1981               PhD        Widowed   \n",
      "\n",
      "   annual_income purhcase_date  recency  online_purchases  store_purchases  \\\n",
      "0        58138.0    09-04-2012       58                 8                4   \n",
      "1        46344.0    03-08-2014       38                 1                2   \n",
      "2        71613.0     8/21/2013       26                 8               10   \n",
      "3        26646.0    02-10-2014       26                 2                4   \n",
      "4        58293.0     1/19/2014       94                 5                6   \n",
      "\n",
      "   complaints  calls  intercoms  \n",
      "0           0      3         11  \n",
      "1           0      3         11  \n",
      "2           0      3         11  \n",
      "3           0      3         11  \n",
      "4           0      3         11  \n",
      "Last 5 rows of data  : \n",
      "      customer_id  year_of_birth  educational_level marital_status  \\\n",
      "494     20202195            1944               PhD       Divorced   \n",
      "495     20202196            1962            Master       Divorced   \n",
      "496     20202197            1978        Graduation       Divorced   \n",
      "497     20202198            1971               PhD   Relationship   \n",
      "498     20202199            1949               PhD   Relationship   \n",
      "\n",
      "     annual_income purhcase_date  recency  online_purchases  store_purchases  \\\n",
      "494        55614.0    11/27/2013       85                 9                6   \n",
      "495        59432.0     4/13/2013       88                 5               11   \n",
      "496        55563.0    04-05-2014       22                 2                3   \n",
      "497        43624.0     4/21/2013       83                 4                4   \n",
      "498        41461.0     5/22/2014       63                 6               11   \n",
      "\n",
      "     complaints  calls  intercoms  \n",
      "494           0      3         11  \n",
      "495           0      3         11  \n",
      "496           0      3         11  \n",
      "497           0      6         11  \n",
      "498           0      6         11  \n"
     ]
    }
   ],
   "source": [
    "# a. Print First 5 rows, last 5 rows of data \n",
    "print(\"First 5 rows of data : \\n\",data.head())\n",
    "print(\"Last 5 rows of data  : \\n\",data.tail())"
   ]
  },
  {
   "cell_type": "code",
   "execution_count": 5,
   "id": "f5afead1",
   "metadata": {
    "scrolled": false
   },
   "outputs": [
    {
     "name": "stdout",
     "output_type": "stream",
     "text": [
      "basic information of the data : \n",
      "<class 'pandas.core.frame.DataFrame'>\n",
      "RangeIndex: 499 entries, 0 to 498\n",
      "Data columns (total 12 columns):\n",
      " #   Column             Non-Null Count  Dtype  \n",
      "---  ------             --------------  -----  \n",
      " 0   customer_id        499 non-null    int64  \n",
      " 1   year_of_birth      499 non-null    int64  \n",
      " 2   educational_level  499 non-null    object \n",
      " 3   marital_status     499 non-null    object \n",
      " 4   annual_income      486 non-null    float64\n",
      " 5   purhcase_date      499 non-null    object \n",
      " 6   recency            499 non-null    int64  \n",
      " 7   online_purchases   499 non-null    int64  \n",
      " 8   store_purchases    499 non-null    int64  \n",
      " 9   complaints         499 non-null    int64  \n",
      " 10  calls              499 non-null    int64  \n",
      " 11  intercoms          499 non-null    int64  \n",
      "dtypes: float64(1), int64(8), object(3)\n",
      "memory usage: 46.9+ KB\n"
     ]
    }
   ],
   "source": [
    "# b. Check the basic information of the data\n",
    "print(\"basic information of the data : \")\n",
    "data.info()"
   ]
  },
  {
   "cell_type": "code",
   "execution_count": 6,
   "id": "43856c84",
   "metadata": {
    "scrolled": true
   },
   "outputs": [
    {
     "name": "stdout",
     "output_type": "stream",
     "text": [
      "shape of data :  (499, 12)\n"
     ]
    }
   ],
   "source": [
    "# c. Extract the shape of the data\n",
    "print(\"shape of data : \",data.shape)"
   ]
  },
  {
   "cell_type": "code",
   "execution_count": 7,
   "id": "0e6b46e3",
   "metadata": {
    "scrolled": true
   },
   "outputs": [
    {
     "name": "stdout",
     "output_type": "stream",
     "text": [
      "the unique values of the marital status field are :\n",
      " ['Single' 'Married' 'Divorced' 'Relationship' 'Widowed' 'Widow']\n"
     ]
    }
   ],
   "source": [
    "# d. Print the unique values of the marital status field based on the column \n",
    "print(\"the unique values of the marital status field are :\\n\",data['marital_status'].unique())"
   ]
  },
  {
   "cell_type": "code",
   "execution_count": 8,
   "id": "c55f02c5",
   "metadata": {
    "scrolled": true
   },
   "outputs": [],
   "source": [
    "# e. To make it consistent data( widow and widowed )are two different naming for the same category on the column values\n",
    "data.replace('Widowed','Widow',inplace=True)"
   ]
  },
  {
   "cell_type": "code",
   "execution_count": 17,
   "id": "70e42007",
   "metadata": {
    "scrolled": true
   },
   "outputs": [
    {
     "name": "stdout",
     "output_type": "stream",
     "text": [
      "duplicates in the dataset :  0\n",
      "null values :  13\n"
     ]
    }
   ],
   "source": [
    "# f. Check for duplicates and null values in the whole dataset\n",
    "print(\"duplicates in the dataset : \",data.duplicated().sum())\n",
    "print(\"null values : \",data.isnull().sum().sum())"
   ]
  },
  {
   "cell_type": "markdown",
   "id": "4dca4761",
   "metadata": {},
   "source": [
    "### III. select and filter data based on conditions"
   ]
  },
  {
   "cell_type": "code",
   "execution_count": 18,
   "id": "5698f148",
   "metadata": {
    "scrolled": true
   },
   "outputs": [
    {
     "name": "stdout",
     "output_type": "stream",
     "text": [
      "subset of the data points(Birthdate, Education, and Income of every customer) : \n",
      "\n",
      "     year_of_birth  educational_level  annual_income\n",
      "162            1982        Graduation        23228.0\n",
      "155            1985        Graduation        69372.0\n",
      "169            1984        Graduation        68247.0\n",
      "428            1989       High School        26116.0\n",
      "356            1955        Graduation        85503.0\n",
      "231            1999       High School        81975.0\n",
      "201            1987        Graduation        75922.0\n",
      "249            1994            Master        65176.0\n",
      "239            1984       High School        74960.0\n",
      "366            1975        Graduation        79530.0\n"
     ]
    }
   ],
   "source": [
    "# a. Select a subset of the data points(Birthdate, Education, and Income of every customer) from the data frame.\n",
    "print(\"subset of the data points(Birthdate, Education, and Income of every customer) : \\n\")\n",
    "print(data.sample(n = 10).loc[:,['year_of_birth ','educational_level','annual_income']])"
   ]
  },
  {
   "cell_type": "code",
   "execution_count": 123,
   "id": "51b32e93",
   "metadata": {
    "scrolled": true
   },
   "outputs": [
    {
     "name": "stdout",
     "output_type": "stream",
     "text": [
      "using loc() method : \n",
      "    customer_id  year_of_birth  educational_level marital_status  \\\n",
      "0     20201701            1982        Graduation         Single   \n",
      "1     20201702            1950        Graduation        Married   \n",
      "2     20201703            1965        Graduation       Divorced   \n",
      "3     20201704            1984        Graduation   Relationship   \n",
      "4     20201705            1981               PhD          Widow   \n",
      "5     20201706            1967            Master   Relationship   \n",
      "6     20201707            1971        Graduation       Divorced   \n",
      "7     20201708            1985               PhD        Married   \n",
      "\n",
      "   annual_income purhcase_date  recency  online_purchases  store_purchases  \\\n",
      "0        58138.0    09-04-2012       58                 8                4   \n",
      "1        46344.0    03-08-2014       38                 1                2   \n",
      "2        71613.0     8/21/2013       26                 8               10   \n",
      "3        26646.0    02-10-2014       26                 2                4   \n",
      "4        58293.0     1/19/2014       94                 5                6   \n",
      "5        62000.0    09-09-2013       16                 6               10   \n",
      "6        55635.0    11/13/2012       34                 7                7   \n",
      "7        33454.0    05-08-2013       32                 4                4   \n",
      "\n",
      "   complaints  calls  intercoms  \n",
      "0           0      3         11  \n",
      "1           0      3         11  \n",
      "2           0      3         11  \n",
      "3           0      3         11  \n",
      "4           0      3         11  \n",
      "5           5      3         11  \n",
      "6           0      3         11  \n",
      "7           0      3         11  \n",
      "using iloc() method : \n",
      "    customer_id  year_of_birth  educational_level marital_status  \\\n",
      "0     20201701            1982        Graduation         Single   \n",
      "1     20201702            1950        Graduation        Married   \n",
      "2     20201703            1965        Graduation       Divorced   \n",
      "3     20201704            1984        Graduation   Relationship   \n",
      "4     20201705            1981               PhD          Widow   \n",
      "5     20201706            1967            Master   Relationship   \n",
      "6     20201707            1971        Graduation       Divorced   \n",
      "7     20201708            1985               PhD        Married   \n",
      "\n",
      "   annual_income purhcase_date  recency  online_purchases  store_purchases  \\\n",
      "0        58138.0    09-04-2012       58                 8                4   \n",
      "1        46344.0    03-08-2014       38                 1                2   \n",
      "2        71613.0     8/21/2013       26                 8               10   \n",
      "3        26646.0    02-10-2014       26                 2                4   \n",
      "4        58293.0     1/19/2014       94                 5                6   \n",
      "5        62000.0    09-09-2013       16                 6               10   \n",
      "6        55635.0    11/13/2012       34                 7                7   \n",
      "7        33454.0    05-08-2013       32                 4                4   \n",
      "\n",
      "   complaints  calls  intercoms  \n",
      "0           0      3         11  \n",
      "1           0      3         11  \n",
      "2           0      3         11  \n",
      "3           0      3         11  \n",
      "4           0      3         11  \n",
      "5           5      3         11  \n",
      "6           0      3         11  \n",
      "7           0      3         11  \n"
     ]
    }
   ],
   "source": [
    "# b. Using loc() and iloc() methods to retrieve the first seven data points.\n",
    "print(\"using loc() method : \\n\",data.loc[:7,:])\n",
    "print(\"using iloc() method : \\n\",data.loc[:7,:])"
   ]
  },
  {
   "cell_type": "code",
   "execution_count": 19,
   "id": "3cf01264",
   "metadata": {
    "scrolled": true
   },
   "outputs": [
    {
     "name": "stdout",
     "output_type": "stream",
     "text": [
      "category :  ['High School', 'Graduation']\n"
     ]
    },
    {
     "data": {
      "text/html": [
       "<div>\n",
       "<style scoped>\n",
       "    .dataframe tbody tr th:only-of-type {\n",
       "        vertical-align: middle;\n",
       "    }\n",
       "\n",
       "    .dataframe tbody tr th {\n",
       "        vertical-align: top;\n",
       "    }\n",
       "\n",
       "    .dataframe thead th {\n",
       "        text-align: right;\n",
       "    }\n",
       "</style>\n",
       "<table border=\"1\" class=\"dataframe\">\n",
       "  <thead>\n",
       "    <tr style=\"text-align: right;\">\n",
       "      <th></th>\n",
       "      <th>customer_id</th>\n",
       "      <th>year_of_birth</th>\n",
       "      <th>educational_level</th>\n",
       "      <th>marital_status</th>\n",
       "      <th>annual_income</th>\n",
       "      <th>purhcase_date</th>\n",
       "      <th>recency</th>\n",
       "      <th>online_purchases</th>\n",
       "      <th>store_purchases</th>\n",
       "      <th>complaints</th>\n",
       "      <th>calls</th>\n",
       "      <th>intercoms</th>\n",
       "    </tr>\n",
       "  </thead>\n",
       "  <tbody>\n",
       "    <tr>\n",
       "      <th>0</th>\n",
       "      <td>20201701</td>\n",
       "      <td>1982</td>\n",
       "      <td>Graduation</td>\n",
       "      <td>Single</td>\n",
       "      <td>58138.0</td>\n",
       "      <td>09-04-2012</td>\n",
       "      <td>58</td>\n",
       "      <td>8</td>\n",
       "      <td>4</td>\n",
       "      <td>0</td>\n",
       "      <td>3</td>\n",
       "      <td>11</td>\n",
       "    </tr>\n",
       "    <tr>\n",
       "      <th>1</th>\n",
       "      <td>20201702</td>\n",
       "      <td>1950</td>\n",
       "      <td>Graduation</td>\n",
       "      <td>Married</td>\n",
       "      <td>46344.0</td>\n",
       "      <td>03-08-2014</td>\n",
       "      <td>38</td>\n",
       "      <td>1</td>\n",
       "      <td>2</td>\n",
       "      <td>0</td>\n",
       "      <td>3</td>\n",
       "      <td>11</td>\n",
       "    </tr>\n",
       "    <tr>\n",
       "      <th>2</th>\n",
       "      <td>20201703</td>\n",
       "      <td>1965</td>\n",
       "      <td>Graduation</td>\n",
       "      <td>Divorced</td>\n",
       "      <td>71613.0</td>\n",
       "      <td>8/21/2013</td>\n",
       "      <td>26</td>\n",
       "      <td>8</td>\n",
       "      <td>10</td>\n",
       "      <td>0</td>\n",
       "      <td>3</td>\n",
       "      <td>11</td>\n",
       "    </tr>\n",
       "    <tr>\n",
       "      <th>3</th>\n",
       "      <td>20201704</td>\n",
       "      <td>1984</td>\n",
       "      <td>Graduation</td>\n",
       "      <td>Relationship</td>\n",
       "      <td>26646.0</td>\n",
       "      <td>02-10-2014</td>\n",
       "      <td>26</td>\n",
       "      <td>2</td>\n",
       "      <td>4</td>\n",
       "      <td>0</td>\n",
       "      <td>3</td>\n",
       "      <td>11</td>\n",
       "    </tr>\n",
       "    <tr>\n",
       "      <th>6</th>\n",
       "      <td>20201707</td>\n",
       "      <td>1971</td>\n",
       "      <td>Graduation</td>\n",
       "      <td>Divorced</td>\n",
       "      <td>55635.0</td>\n",
       "      <td>11/13/2012</td>\n",
       "      <td>34</td>\n",
       "      <td>7</td>\n",
       "      <td>7</td>\n",
       "      <td>0</td>\n",
       "      <td>3</td>\n",
       "      <td>11</td>\n",
       "    </tr>\n",
       "    <tr>\n",
       "      <th>...</th>\n",
       "      <td>...</td>\n",
       "      <td>...</td>\n",
       "      <td>...</td>\n",
       "      <td>...</td>\n",
       "      <td>...</td>\n",
       "      <td>...</td>\n",
       "      <td>...</td>\n",
       "      <td>...</td>\n",
       "      <td>...</td>\n",
       "      <td>...</td>\n",
       "      <td>...</td>\n",
       "      <td>...</td>\n",
       "    </tr>\n",
       "    <tr>\n",
       "      <th>488</th>\n",
       "      <td>20202189</td>\n",
       "      <td>1969</td>\n",
       "      <td>Graduation</td>\n",
       "      <td>Married</td>\n",
       "      <td>14045.0</td>\n",
       "      <td>1/26/2014</td>\n",
       "      <td>24</td>\n",
       "      <td>1</td>\n",
       "      <td>3</td>\n",
       "      <td>0</td>\n",
       "      <td>3</td>\n",
       "      <td>11</td>\n",
       "    </tr>\n",
       "    <tr>\n",
       "      <th>489</th>\n",
       "      <td>20202190</td>\n",
       "      <td>1952</td>\n",
       "      <td>High School</td>\n",
       "      <td>Widow</td>\n",
       "      <td>28457.0</td>\n",
       "      <td>10/28/2012</td>\n",
       "      <td>96</td>\n",
       "      <td>4</td>\n",
       "      <td>4</td>\n",
       "      <td>0</td>\n",
       "      <td>3</td>\n",
       "      <td>11</td>\n",
       "    </tr>\n",
       "    <tr>\n",
       "      <th>491</th>\n",
       "      <td>20202192</td>\n",
       "      <td>1976</td>\n",
       "      <td>Graduation</td>\n",
       "      <td>Divorced</td>\n",
       "      <td>46310.0</td>\n",
       "      <td>12-03-2012</td>\n",
       "      <td>99</td>\n",
       "      <td>6</td>\n",
       "      <td>5</td>\n",
       "      <td>0</td>\n",
       "      <td>3</td>\n",
       "      <td>11</td>\n",
       "    </tr>\n",
       "    <tr>\n",
       "      <th>492</th>\n",
       "      <td>20202193</td>\n",
       "      <td>1955</td>\n",
       "      <td>Graduation</td>\n",
       "      <td>Relationship</td>\n",
       "      <td>23018.0</td>\n",
       "      <td>2/22/2013</td>\n",
       "      <td>72</td>\n",
       "      <td>3</td>\n",
       "      <td>13</td>\n",
       "      <td>0</td>\n",
       "      <td>3</td>\n",
       "      <td>11</td>\n",
       "    </tr>\n",
       "    <tr>\n",
       "      <th>496</th>\n",
       "      <td>20202197</td>\n",
       "      <td>1978</td>\n",
       "      <td>Graduation</td>\n",
       "      <td>Divorced</td>\n",
       "      <td>55563.0</td>\n",
       "      <td>04-05-2014</td>\n",
       "      <td>22</td>\n",
       "      <td>2</td>\n",
       "      <td>3</td>\n",
       "      <td>0</td>\n",
       "      <td>3</td>\n",
       "      <td>11</td>\n",
       "    </tr>\n",
       "  </tbody>\n",
       "</table>\n",
       "<p>297 rows × 12 columns</p>\n",
       "</div>"
      ],
      "text/plain": [
       "     customer_id  year_of_birth  educational_level marital_status  \\\n",
       "0       20201701            1982        Graduation         Single   \n",
       "1       20201702            1950        Graduation        Married   \n",
       "2       20201703            1965        Graduation       Divorced   \n",
       "3       20201704            1984        Graduation   Relationship   \n",
       "6       20201707            1971        Graduation       Divorced   \n",
       "..           ...             ...               ...            ...   \n",
       "488     20202189            1969        Graduation        Married   \n",
       "489     20202190            1952       High School          Widow   \n",
       "491     20202192            1976        Graduation       Divorced   \n",
       "492     20202193            1955        Graduation   Relationship   \n",
       "496     20202197            1978        Graduation       Divorced   \n",
       "\n",
       "     annual_income purhcase_date  recency  online_purchases  store_purchases  \\\n",
       "0          58138.0    09-04-2012       58                 8                4   \n",
       "1          46344.0    03-08-2014       38                 1                2   \n",
       "2          71613.0     8/21/2013       26                 8               10   \n",
       "3          26646.0    02-10-2014       26                 2                4   \n",
       "6          55635.0    11/13/2012       34                 7                7   \n",
       "..             ...           ...      ...               ...              ...   \n",
       "488        14045.0     1/26/2014       24                 1                3   \n",
       "489        28457.0    10/28/2012       96                 4                4   \n",
       "491        46310.0    12-03-2012       99                 6                5   \n",
       "492        23018.0     2/22/2013       72                 3               13   \n",
       "496        55563.0    04-05-2014       22                 2                3   \n",
       "\n",
       "     complaints  calls  intercoms  \n",
       "0             0      3         11  \n",
       "1             0      3         11  \n",
       "2             0      3         11  \n",
       "3             0      3         11  \n",
       "6             0      3         11  \n",
       "..          ...    ...        ...  \n",
       "488           0      3         11  \n",
       "489           0      3         11  \n",
       "491           0      3         11  \n",
       "492           0      3         11  \n",
       "496           0      3         11  \n",
       "\n",
       "[297 rows x 12 columns]"
      ]
     },
     "execution_count": 19,
     "metadata": {},
     "output_type": "execute_result"
    }
   ],
   "source": [
    "# c. Filter data using the loc() and isin() methods.(Note:we choose the variable of interest and we select the categories )\n",
    "category = ['High School','Graduation']\n",
    "print(\"category : \",category)\n",
    "data.loc[data['educational_level'].isin(category)]"
   ]
  },
  {
   "cell_type": "code",
   "execution_count": 20,
   "id": "ceb569aa",
   "metadata": {
    "scrolled": true
   },
   "outputs": [
    {
     "name": "stdout",
     "output_type": "stream",
     "text": [
      "data that satisfies both conditions is : \n",
      " Empty DataFrame\n",
      "Columns: [customer_id, year_of_birth , educational_level, marital_status, annual_income, purhcase_date, recency, online_purchases, store_purchases, complaints, calls, intercoms]\n",
      "Index: []\n"
     ]
    }
   ],
   "source": [
    "# d. In our data, that satisfies two conditions such as choosing the customers with an income higher than 75,000 and \n",
    "# with a master’s degree(using python operators) and display the output.\n",
    "print(\"data that satisfies both conditions is : \\n\",data.loc[(data[\"annual_income\"] > 75000) & (data[\"educational_level\"]) == \"Master\"])"
   ]
  },
  {
   "cell_type": "markdown",
   "id": "48f1e176",
   "metadata": {},
   "source": [
    "### IV. apply various data operation tools such as creating new variables or changing data types We can apply different operations on the dataset using Pandas such as\n"
   ]
  },
  {
   "cell_type": "code",
   "execution_count": 21,
   "id": "68c4b120",
   "metadata": {
    "scrolled": true
   },
   "outputs": [],
   "source": [
    "# a. setting a new index with the variable of our interest using the .set_index() method\n",
    "data.set_index('customer_id',inplace = True)"
   ]
  },
  {
   "cell_type": "code",
   "execution_count": 22,
   "id": "5ad611ad",
   "metadata": {
    "scrolled": true
   },
   "outputs": [],
   "source": [
    "# b. sorting the data frame by one of the variable using .sort_values() with ascending or descending order;\n",
    "data.sort_values(ascending = True,by = 'year_of_birth ',inplace = True)"
   ]
  },
  {
   "cell_type": "code",
   "execution_count": 24,
   "id": "2f91f85c",
   "metadata": {
    "scrolled": true
   },
   "outputs": [],
   "source": [
    "# c. creating a new variable which could be the result of a mathematical operation such as sum of other variables\n",
    "# print(\"created variable is 'total_purchases' and data for total_purchases is : \\n\")\n",
    "data['total_purchases'] = data['online_purchases']+data['store_purchases']"
   ]
  },
  {
   "cell_type": "code",
   "execution_count": 54,
   "id": "616b50cd",
   "metadata": {
    "scrolled": true
   },
   "outputs": [],
   "source": [
    "# d. changing the datatype of variables into datetime or integer types\n",
    "data1 = data['purhcase_date']\n",
    "data1 = data1.map(lambda x:x.replace('-','/') if('-' in x) else x)\n",
    "data1[data1.str.find('-') != -1]\n",
    "data['purhcase_date'] = pd.to_datetime(data1)"
   ]
  },
  {
   "cell_type": "code",
   "execution_count": 55,
   "id": "be6d0c5c",
   "metadata": {
    "scrolled": true
   },
   "outputs": [
    {
     "name": "stdout",
     "output_type": "stream",
     "text": [
      "Age of each person is : \n",
      " customer_id\n",
      "20202040    124\n",
      "20201733     83\n",
      "20202059     80\n",
      "20201740     80\n",
      "20202195     79\n",
      "           ... \n",
      "20201717     23\n",
      "20202119     23\n",
      "20201817     23\n",
      "20201886     23\n",
      "20202153     23\n",
      "Name: year_of_birth , Length: 499, dtype: int64\n"
     ]
    }
   ],
   "source": [
    "# e. determining the age based on year of birth\n",
    "age = 2023-data['year_of_birth ']\n",
    "print(\"Age of each person is : \\n\",age)"
   ]
  },
  {
   "cell_type": "code",
   "execution_count": 63,
   "id": "751438eb",
   "metadata": {
    "scrolled": false
   },
   "outputs": [
    {
     "data": {
      "text/plain": [
       "customer_id\n",
       "20202040    38-2013\n",
       "20201733    41-2012\n",
       "20202059    33-2013\n",
       "20201740    04-2013\n",
       "20202195    47-2013\n",
       "             ...   \n",
       "20201717    52-2012\n",
       "20202119    07-2013\n",
       "20201817    03-2014\n",
       "20201886    49-2012\n",
       "20202153    41-2013\n",
       "Name: week_date, Length: 499, dtype: object"
      ]
     },
     "execution_count": 63,
     "metadata": {},
     "output_type": "execute_result"
    }
   ],
   "source": [
    "# f. creating the week date (calendar week and year) from the purchase date\n",
    "data['week_date'] = data['purhcase_date'].dt.strftime('%U-%Y')\n",
    "data['week_date']"
   ]
  },
  {
   "cell_type": "markdown",
   "id": "c5b46640",
   "metadata": {},
   "source": [
    "### V.\t perform data aggregation using group by and pivot table methods\n",
    "#### After we created new variables, we can further aggregate  and to analyze data  by groups,\n"
   ]
  },
  {
   "cell_type": "code",
   "execution_count": 175,
   "id": "44c799c1",
   "metadata": {},
   "outputs": [
    {
     "name": "stdout",
     "output_type": "stream",
     "text": [
      "Annual_income : \n",
      " educational_level\n",
      "Basic          19514.571429\n",
      "Graduation     51607.827309\n",
      "High School    44154.717949\n",
      "Master         51191.700000\n",
      "PhD            55878.990991\n",
      "Name: annual_income, dtype: float64\n",
      "Recency : \n",
      " educational_level\n",
      "Basic          53.571429\n",
      "Graduation     47.171206\n",
      "High School    58.400000\n",
      "Master         45.000000\n",
      "PhD            49.008772\n",
      "Name: recency, dtype: float64\n",
      "Web_purchases : \n",
      " educational_level\n",
      "Basic          1.571429\n",
      "Graduation     3.887160\n",
      "High School    3.450000\n",
      "Master         4.049383\n",
      "PhD            4.429825\n",
      "Name: online_purchases, dtype: float64\n",
      "Store_purrchases : \n",
      " educational_level\n",
      "Basic          2.857143\n",
      "Graduation     5.840467\n",
      "High School    4.600000\n",
      "Master         5.691358\n",
      "PhD            6.298246\n",
      "Name: store_purchases, dtype: float64\n"
     ]
    }
   ],
   "source": [
    "# a.\tTo apply groupby()method to find the mean of income ,recency,number of web and store  purchases by educational group.\n",
    "\n",
    "data1 = data.groupby(by = ['educational_level'])\n",
    "annual_income = data1['annual_income'].mean()\n",
    "recency = data1['recency'].mean()\n",
    "web_purchases = data1['online_purchases'].mean()\n",
    "store_purrchases = (data1['store_purchases']).mean()\n",
    "print(\"Annual_income : \\n\",annual_income)\n",
    "print(\"Recency : \\n\",recency)\n",
    "print(\"Web_purchases : \\n\",online_purchases)\n",
    "print(\"Store_purrchases : \\n\",store_purrchases)"
   ]
  },
  {
   "cell_type": "code",
   "execution_count": 189,
   "id": "b72cb700",
   "metadata": {
    "scrolled": false
   },
   "outputs": [
    {
     "data": {
      "text/html": [
       "<div>\n",
       "<style scoped>\n",
       "    .dataframe tbody tr th:only-of-type {\n",
       "        vertical-align: middle;\n",
       "    }\n",
       "\n",
       "    .dataframe tbody tr th {\n",
       "        vertical-align: top;\n",
       "    }\n",
       "\n",
       "    .dataframe thead th {\n",
       "        text-align: right;\n",
       "    }\n",
       "</style>\n",
       "<table border=\"1\" class=\"dataframe\">\n",
       "  <thead>\n",
       "    <tr style=\"text-align: right;\">\n",
       "      <th></th>\n",
       "      <th></th>\n",
       "      <th>recency</th>\n",
       "      <th>total_purchases</th>\n",
       "    </tr>\n",
       "    <tr>\n",
       "      <th>educational_level</th>\n",
       "      <th>marital_status</th>\n",
       "      <th></th>\n",
       "      <th></th>\n",
       "    </tr>\n",
       "  </thead>\n",
       "  <tbody>\n",
       "    <tr>\n",
       "      <th rowspan=\"3\" valign=\"top\">Basic</th>\n",
       "      <th>Divorced</th>\n",
       "      <td>68.333333</td>\n",
       "      <td>13</td>\n",
       "    </tr>\n",
       "    <tr>\n",
       "      <th>Relationship</th>\n",
       "      <td>39.333333</td>\n",
       "      <td>15</td>\n",
       "    </tr>\n",
       "    <tr>\n",
       "      <th>Single</th>\n",
       "      <td>52.000000</td>\n",
       "      <td>3</td>\n",
       "    </tr>\n",
       "    <tr>\n",
       "      <th rowspan=\"5\" valign=\"top\">Graduation</th>\n",
       "      <th>Divorced</th>\n",
       "      <td>54.897959</td>\n",
       "      <td>481</td>\n",
       "    </tr>\n",
       "    <tr>\n",
       "      <th>Married</th>\n",
       "      <td>42.701493</td>\n",
       "      <td>652</td>\n",
       "    </tr>\n",
       "    <tr>\n",
       "      <th>Relationship</th>\n",
       "      <td>48.196078</td>\n",
       "      <td>464</td>\n",
       "    </tr>\n",
       "    <tr>\n",
       "      <th>Single</th>\n",
       "      <td>44.278689</td>\n",
       "      <td>623</td>\n",
       "    </tr>\n",
       "    <tr>\n",
       "      <th>Widow</th>\n",
       "      <td>48.724138</td>\n",
       "      <td>280</td>\n",
       "    </tr>\n",
       "    <tr>\n",
       "      <th rowspan=\"5\" valign=\"top\">High School</th>\n",
       "      <th>Divorced</th>\n",
       "      <td>64.666667</td>\n",
       "      <td>31</td>\n",
       "    </tr>\n",
       "    <tr>\n",
       "      <th>Married</th>\n",
       "      <td>66.866667</td>\n",
       "      <td>120</td>\n",
       "    </tr>\n",
       "    <tr>\n",
       "      <th>Relationship</th>\n",
       "      <td>49.615385</td>\n",
       "      <td>99</td>\n",
       "    </tr>\n",
       "    <tr>\n",
       "      <th>Single</th>\n",
       "      <td>49.000000</td>\n",
       "      <td>54</td>\n",
       "    </tr>\n",
       "    <tr>\n",
       "      <th>Widow</th>\n",
       "      <td>66.666667</td>\n",
       "      <td>18</td>\n",
       "    </tr>\n",
       "    <tr>\n",
       "      <th rowspan=\"5\" valign=\"top\">Master</th>\n",
       "      <th>Divorced</th>\n",
       "      <td>60.083333</td>\n",
       "      <td>134</td>\n",
       "    </tr>\n",
       "    <tr>\n",
       "      <th>Married</th>\n",
       "      <td>50.315789</td>\n",
       "      <td>193</td>\n",
       "    </tr>\n",
       "    <tr>\n",
       "      <th>Relationship</th>\n",
       "      <td>36.800000</td>\n",
       "      <td>159</td>\n",
       "    </tr>\n",
       "    <tr>\n",
       "      <th>Single</th>\n",
       "      <td>42.761905</td>\n",
       "      <td>218</td>\n",
       "    </tr>\n",
       "    <tr>\n",
       "      <th>Widow</th>\n",
       "      <td>37.111111</td>\n",
       "      <td>85</td>\n",
       "    </tr>\n",
       "    <tr>\n",
       "      <th rowspan=\"5\" valign=\"top\">PhD</th>\n",
       "      <th>Divorced</th>\n",
       "      <td>41.350000</td>\n",
       "      <td>232</td>\n",
       "    </tr>\n",
       "    <tr>\n",
       "      <th>Married</th>\n",
       "      <td>60.000000</td>\n",
       "      <td>236</td>\n",
       "    </tr>\n",
       "    <tr>\n",
       "      <th>Relationship</th>\n",
       "      <td>43.161290</td>\n",
       "      <td>364</td>\n",
       "    </tr>\n",
       "    <tr>\n",
       "      <th>Single</th>\n",
       "      <td>49.315789</td>\n",
       "      <td>173</td>\n",
       "    </tr>\n",
       "    <tr>\n",
       "      <th>Widow</th>\n",
       "      <td>52.250000</td>\n",
       "      <td>218</td>\n",
       "    </tr>\n",
       "  </tbody>\n",
       "</table>\n",
       "</div>"
      ],
      "text/plain": [
       "                                    recency  total_purchases\n",
       "educational_level marital_status                            \n",
       "Basic             Divorced        68.333333               13\n",
       "                  Relationship    39.333333               15\n",
       "                  Single          52.000000                3\n",
       "Graduation        Divorced        54.897959              481\n",
       "                  Married         42.701493              652\n",
       "                  Relationship    48.196078              464\n",
       "                  Single          44.278689              623\n",
       "                  Widow           48.724138              280\n",
       "High School       Divorced        64.666667               31\n",
       "                  Married         66.866667              120\n",
       "                  Relationship    49.615385               99\n",
       "                  Single          49.000000               54\n",
       "                  Widow           66.666667               18\n",
       "Master            Divorced        60.083333              134\n",
       "                  Married         50.315789              193\n",
       "                  Relationship    36.800000              159\n",
       "                  Single          42.761905              218\n",
       "                  Widow           37.111111               85\n",
       "PhD               Divorced        41.350000              232\n",
       "                  Married         60.000000              236\n",
       "                  Relationship    43.161290              364\n",
       "                  Single          49.315789              173\n",
       "                  Widow           52.250000              218"
      ]
     },
     "execution_count": 189,
     "metadata": {},
     "output_type": "execute_result"
    }
   ],
   "source": [
    "# b.\tTo apply pivot_table()method to find the aggregated sum of purchases  and mean of recency per education and marital status group.\n",
    "# data1 = data.groupby(by = ['educational_level'])\n",
    "pt = pd.pivot_table(data,values=('total_purchases','recency'),\n",
    "                    aggfunc = {'total_purchases':'sum','recency':'mean'},\n",
    "                   index = ['educational_level','marital_status'])\n",
    "pt"
   ]
  }
 ],
 "metadata": {
  "kernelspec": {
   "display_name": "Python 3 (ipykernel)",
   "language": "python",
   "name": "python3"
  },
  "language_info": {
   "codemirror_mode": {
    "name": "ipython",
    "version": 3
   },
   "file_extension": ".py",
   "mimetype": "text/x-python",
   "name": "python",
   "nbconvert_exporter": "python",
   "pygments_lexer": "ipython3",
   "version": "3.11.5"
  }
 },
 "nbformat": 4,
 "nbformat_minor": 5
}
