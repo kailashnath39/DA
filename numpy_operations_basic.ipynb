{
 "cells": [
  {
   "cell_type": "code",
   "execution_count": 38,
   "metadata": {},
   "outputs": [],
   "source": [
    "import numpy as np"
   ]
  },
  {
   "cell_type": "markdown",
   "metadata": {},
   "source": [
    "i)\tCreate a one-dimensional array and perform  all operations on it."
   ]
  },
  {
   "cell_type": "code",
   "execution_count": 39,
   "metadata": {},
   "outputs": [
    {
     "name": "stdout",
     "output_type": "stream",
     "text": [
      "[3 4 5 6 7]\n",
      "[ 2  4  6  8 10]\n",
      "[-1  0  1  2  3]\n",
      "[1.         1.41421356 1.73205081 2.         2.23606798]\n",
      "[  2.71828183   7.3890561   20.08553692  54.59815003 148.4131591 ]\n"
     ]
    }
   ],
   "source": [
    "a = np.arange(1,6)\n",
    "print(a+2)\n",
    "print(a*2)\n",
    "print(a-2)\n",
    "print(np.sqrt(a))\n",
    "print(np.exp(a))"
   ]
  },
  {
   "cell_type": "markdown",
   "metadata": {},
   "source": [
    "ii)\tCreate multi-dimensional arrays and find its shape and dimension "
   ]
  },
  {
   "cell_type": "code",
   "execution_count": 40,
   "metadata": {},
   "outputs": [
    {
     "name": "stdout",
     "output_type": "stream",
     "text": [
      "[[1 2 3]\n",
      " [4 5 6]\n",
      " [7 8 9]]\n",
      "shape : (3, 3)\n",
      "dimension : 2\n"
     ]
    }
   ],
   "source": [
    "a = np.arange(1,10).reshape(3,3)\n",
    "print(a)\n",
    "print(\"shape :\",a.shape)\n",
    "print(\"dimension :\",a.ndim)"
   ]
  },
  {
   "cell_type": "markdown",
   "metadata": {},
   "source": [
    "iii)\tCreate a matrix full of zeros and ones "
   ]
  },
  {
   "cell_type": "code",
   "execution_count": 41,
   "metadata": {},
   "outputs": [
    {
     "name": "stdout",
     "output_type": "stream",
     "text": [
      "[[0. 0. 0.]\n",
      " [0. 0. 0.]\n",
      " [0. 0. 0.]] \n",
      " [[1. 1. 1.]\n",
      " [1. 1. 1.]\n",
      " [1. 1. 1.]]\n"
     ]
    }
   ],
   "source": [
    "a = np.zeros((3,3))\n",
    "b = np.ones((3,3))\n",
    "print(a,\"\\n\",b)"
   ]
  },
  {
   "cell_type": "markdown",
   "metadata": {},
   "source": [
    "iv)\tReshape and flatten data in the array "
   ]
  },
  {
   "cell_type": "code",
   "execution_count": 42,
   "metadata": {},
   "outputs": [
    {
     "name": "stdout",
     "output_type": "stream",
     "text": [
      "[1 2 3 4 5 6 7 8 9]\n",
      "[[1 2 3]\n",
      " [4 5 6]\n",
      " [7 8 9]]\n",
      "[1 2 3 4 5 6 7 8 9]\n"
     ]
    }
   ],
   "source": [
    "a = np.arange(1,10)\n",
    "print(a)\n",
    "a = a.reshape(3,3)\n",
    "print(a)\n",
    "a = a.flatten() # np.flatten(array)\n",
    "print(a)"
   ]
  },
  {
   "cell_type": "markdown",
   "metadata": {},
   "source": [
    "v)\tPerform arithmetic operations on multi-dimensional  arrays"
   ]
  },
  {
   "cell_type": "code",
   "execution_count": 43,
   "metadata": {},
   "outputs": [
    {
     "name": "stdout",
     "output_type": "stream",
     "text": [
      "[[12 14 16]\n",
      " [18 20 22]\n",
      " [24 26 28]]\n",
      "[[ 11  24  39]\n",
      " [ 56  75  96]\n",
      " [119 144 171]]\n",
      "[[-10 -10 -10]\n",
      " [-10 -10 -10]\n",
      " [-10 -10 -10]]\n",
      "[[ 6  7  8]\n",
      " [ 9 10 11]\n",
      " [12 13 14]]\n",
      "[[1 2 3]\n",
      " [4 5 6]\n",
      " [7 8 9]]\n"
     ]
    }
   ],
   "source": [
    "a = np.arange(1,10).reshape(3,3)\n",
    "b = np.arange(11,20).reshape(3,3)\n",
    "print(a+b)\n",
    "print(a*b)\n",
    "print(a-b)\n",
    "print(a+5)\n",
    "print(a%b)"
   ]
  },
  {
   "cell_type": "markdown",
   "metadata": {},
   "source": [
    "vi)\tAppend data vertically and horizontally "
   ]
  },
  {
   "cell_type": "code",
   "execution_count": 44,
   "metadata": {},
   "outputs": [
    {
     "name": "stdout",
     "output_type": "stream",
     "text": [
      "[[1 2 3]\n",
      " [4 5 6]\n",
      " [7 8 9]\n",
      " [1 2 3]]\n",
      "[[1 2 3 1]\n",
      " [4 5 6 2]\n",
      " [7 8 9 3]]\n"
     ]
    }
   ],
   "source": [
    "a = np.arange(1,10).reshape(3,3)\n",
    "b = np.array([1,2,3]).reshape(1,3)\n",
    "print(np.append(a,b,axis=0))\n",
    "print(np.append(a,b.T,axis=1))"
   ]
  },
  {
   "cell_type": "markdown",
   "metadata": {},
   "source": [
    "vii)\tApply indexing and slicing on array "
   ]
  },
  {
   "cell_type": "code",
   "execution_count": 45,
   "metadata": {},
   "outputs": [
    {
     "name": "stdout",
     "output_type": "stream",
     "text": [
      "[[[ 1  2  3]\n",
      "  [ 4  5  6]\n",
      "  [ 7  8  9]]\n",
      "\n",
      " [[10 11 12]\n",
      "  [13 14 15]\n",
      "  [16 17 18]]\n",
      "\n",
      " [[19 20 21]\n",
      "  [22 23 24]\n",
      "  [25 26 27]]] \n",
      "---------------\n",
      "[16 17 18]\n",
      "[[16 17 18]\n",
      " [25 26 27]]\n",
      "24\n"
     ]
    }
   ],
   "source": [
    "a = np.arange(1,28).reshape(3,3,3)\n",
    "print(a,\"\\n---------------\")\n",
    "print(a[1,2])\n",
    "print(a[1:3,2])\n",
    "print(a[2,1,2])"
   ]
  },
  {
   "cell_type": "markdown",
   "metadata": {},
   "source": [
    "viii)\tUse statistical functions on array - Min, Max, Mean, Median and Standard Deviation "
   ]
  },
  {
   "cell_type": "code",
   "execution_count": 46,
   "metadata": {},
   "outputs": [
    {
     "name": "stdout",
     "output_type": "stream",
     "text": [
      "5\n",
      "1\n",
      "3.0\n",
      "3.0\n",
      "1.4142135623730951\n"
     ]
    }
   ],
   "source": [
    "a = np.arange(1,6)\n",
    "print(a.max())\n",
    "print(a.min())\n",
    "print(a.mean())\n",
    "print(np.median(a))\n",
    "print(a.std())\n",
    "\n"
   ]
  },
  {
   "cell_type": "markdown",
   "metadata": {},
   "source": [
    "ix)\tDot  matrix product of two arrays "
   ]
  },
  {
   "cell_type": "code",
   "execution_count": 47,
   "metadata": {},
   "outputs": [
    {
     "name": "stdout",
     "output_type": "stream",
     "text": [
      "[[14]\n",
      " [32]\n",
      " [50]]\n"
     ]
    }
   ],
   "source": [
    "a = np.arange(1,10).reshape(3,3)\n",
    "b = np.arange(1,4).reshape(3,1)\n",
    "print(np.dot(a,b))"
   ]
  },
  {
   "cell_type": "markdown",
   "metadata": {},
   "source": [
    "x)\tCompute the Eigen values of a matrix "
   ]
  },
  {
   "cell_type": "code",
   "execution_count": 48,
   "metadata": {},
   "outputs": [
    {
     "name": "stdout",
     "output_type": "stream",
     "text": [
      "[ 1.89498744e+01 -9.49874371e-01 -7.57759754e-16]\n"
     ]
    }
   ],
   "source": [
    "a = np.arange(2,11).reshape(3,3)\n",
    "print(np.linalg.eig(a)[0])"
   ]
  },
  {
   "cell_type": "markdown",
   "metadata": {},
   "source": [
    "xi)\tSolve a linear matrix equation such as 3 * x0 + x1 = 9, x0 + 2 * x1 = 8 "
   ]
  },
  {
   "cell_type": "code",
   "execution_count": 49,
   "metadata": {},
   "outputs": [
    {
     "name": "stdout",
     "output_type": "stream",
     "text": [
      "[2. 3.]\n"
     ]
    }
   ],
   "source": [
    "# 3 * x0 + x1 = 9, x0 + 2 * x1 = 8 \n",
    "a = np.array([[3,1],[1,2]])\n",
    "b = np.array([9,8])\n",
    "print(np.linalg.solve(a,b))"
   ]
  },
  {
   "cell_type": "markdown",
   "metadata": {},
   "source": [
    "xii)\tCompute the multiplicative inverse of a matrix "
   ]
  },
  {
   "cell_type": "code",
   "execution_count": 50,
   "metadata": {},
   "outputs": [
    {
     "name": "stdout",
     "output_type": "stream",
     "text": [
      "[[-2.5  1.5]\n",
      " [ 2.  -1. ]]\n"
     ]
    }
   ],
   "source": [
    "a = np.arange(2,6).reshape(2,2)\n",
    "print(np.linalg.inv(a))"
   ]
  },
  {
   "cell_type": "markdown",
   "metadata": {},
   "source": [
    "xiii)\tCompute the rank of a matrix "
   ]
  },
  {
   "cell_type": "code",
   "execution_count": 51,
   "metadata": {},
   "outputs": [
    {
     "name": "stdout",
     "output_type": "stream",
     "text": [
      "2\n"
     ]
    }
   ],
   "source": [
    "a = np.arange(2,6).reshape(2,2)\n",
    "print(np.linalg.matrix_rank(a))"
   ]
  },
  {
   "cell_type": "markdown",
   "metadata": {},
   "source": [
    "xiv)\t Compute the determinant of an array"
   ]
  },
  {
   "cell_type": "code",
   "execution_count": 52,
   "metadata": {},
   "outputs": [
    {
     "name": "stdout",
     "output_type": "stream",
     "text": [
      "-2.0\n"
     ]
    }
   ],
   "source": [
    "a = np.arange(2,6).reshape(2,2)\n",
    "print(np.linalg.det(a))"
   ]
  },
  {
   "cell_type": "markdown",
   "metadata": {},
   "source": [
    "xv)\tPerform transpose and change of axes operations on arrays."
   ]
  },
  {
   "cell_type": "code",
   "execution_count": 53,
   "metadata": {},
   "outputs": [
    {
     "name": "stdout",
     "output_type": "stream",
     "text": [
      "[[1 4 7]\n",
      " [2 5 8]\n",
      " [3 6 9]]\n",
      "[[1 4 7]\n",
      " [2 5 8]\n",
      " [3 6 9]]\n"
     ]
    }
   ],
   "source": [
    "a = np.arange(1,10).reshape(3,3)\n",
    "print(a.T)\n",
    "print(np.swapaxes(a,0,1))"
   ]
  },
  {
   "cell_type": "markdown",
   "metadata": {},
   "source": [
    "xvi)\tPerform splitting operations on arrays."
   ]
  },
  {
   "cell_type": "code",
   "execution_count": 54,
   "metadata": {},
   "outputs": [
    {
     "name": "stdout",
     "output_type": "stream",
     "text": [
      "[array([[1, 2],\n",
      "       [7, 8]]), array([[ 3,  4],\n",
      "       [ 9, 10]]), array([[ 5,  6],\n",
      "       [11, 12]])]\n",
      "[array([[11, 12],\n",
      "       [13, 14]]), array([[15, 16],\n",
      "       [17, 18]]), array([[19, 20],\n",
      "       [21, 22]])]\n"
     ]
    }
   ],
   "source": [
    "a = np.arange(1,13).reshape(2,6)\n",
    "b = np.arange(11,23).reshape(6,2)\n",
    "print(np.hsplit(a,3))\n",
    "\n",
    "print(np.vsplit(b,3))"
   ]
  },
  {
   "cell_type": "markdown",
   "metadata": {},
   "source": [
    "1.How to convert an array of strings to an array of floats in numpy?"
   ]
  },
  {
   "cell_type": "code",
   "execution_count": 55,
   "metadata": {},
   "outputs": [
    {
     "name": "stdout",
     "output_type": "stream",
     "text": [
      "['1.1' '1.2' '1.3' '1.4']\n",
      "[1.1 1.2 1.3 1.4]\n"
     ]
    }
   ],
   "source": [
    "a = np.array(['1.1','1.2','1.3','1.4'])\n",
    "print(a)\n",
    "a = a.astype(float)\n",
    "print(a)"
   ]
  },
  {
   "cell_type": "markdown",
   "metadata": {},
   "source": [
    "2.Extracting first n columns of a Numpy matrix"
   ]
  },
  {
   "cell_type": "code",
   "execution_count": null,
   "metadata": {},
   "outputs": [],
   "source": []
  },
  {
   "cell_type": "markdown",
   "metadata": {},
   "source": [
    "3.How to calculate the sum of every row in a NumPy array in Python?"
   ]
  },
  {
   "cell_type": "markdown",
   "metadata": {},
   "source": [
    "4. How to check all elements are NaN in a NumPy Array in Python?"
   ]
  },
  {
   "cell_type": "markdown",
   "metadata": {},
   "source": [
    "5. How to multiply each element of Numpy array in Python?"
   ]
  },
  {
   "cell_type": "markdown",
   "metadata": {},
   "source": [
    "6. Scalar Arithmetic Operations on NumPy Array"
   ]
  },
  {
   "cell_type": "markdown",
   "metadata": {},
   "source": [
    "7. How to check for NaN elements in a NumPy Array in Python?"
   ]
  },
  {
   "cell_type": "markdown",
   "metadata": {},
   "source": [
    "8. NumPy Element Wise Mathematical Operations"
   ]
  },
  {
   "cell_type": "markdown",
   "metadata": {},
   "source": [
    "9. How to count frequency of unique values in a NumPy array in Python?"
   ]
  },
  {
   "cell_type": "markdown",
   "metadata": {},
   "source": [
    "10. Write a NumPy program to get the indices of the sorted elements of a given array."
   ]
  },
  {
   "cell_type": "markdown",
   "metadata": {},
   "source": [
    "11. How to print a full NumPy array without truncation in Python?"
   ]
  },
  {
   "cell_type": "markdown",
   "metadata": {},
   "source": [
    "12. How to get the transpose of a NumPy array in Python?"
   ]
  },
  {
   "cell_type": "markdown",
   "metadata": {},
   "source": [
    "13. How do you replace items that satisfy a condition with another value in Numpy array?"
   ]
  }
 ],
 "metadata": {
  "kernelspec": {
   "display_name": "Python 3",
   "language": "python",
   "name": "python3"
  },
  "language_info": {
   "codemirror_mode": {
    "name": "ipython",
    "version": 3
   },
   "file_extension": ".py",
   "mimetype": "text/x-python",
   "name": "python",
   "nbconvert_exporter": "python",
   "pygments_lexer": "ipython3",
   "version": "3.11.3"
  },
  "orig_nbformat": 4
 },
 "nbformat": 4,
 "nbformat_minor": 2
}
